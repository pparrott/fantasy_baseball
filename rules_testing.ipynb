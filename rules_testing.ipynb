{
 "metadata": {
  "language_info": {
   "codemirror_mode": {
    "name": "ipython",
    "version": 3
   },
   "file_extension": ".py",
   "mimetype": "text/x-python",
   "name": "python",
   "nbconvert_exporter": "python",
   "pygments_lexer": "ipython3",
   "version": "3.8.8-final"
  },
  "orig_nbformat": 2,
  "kernelspec": {
   "name": "python3",
   "display_name": "Python 3.8.8 64-bit",
   "metadata": {
    "interpreter": {
     "hash": "1ee38ef4a5a9feb55287fd749643f13d043cb0a7addaab2a9c224cbe137c0062"
    }
   }
  }
 },
 "nbformat": 4,
 "nbformat_minor": 2,
 "cells": [
  {
   "source": [
    "# Rules testing\n",
    "---\n",
    "Using different rules formats to try and even out the player scores "
   ],
   "cell_type": "markdown",
   "metadata": {}
  },
  {
   "cell_type": "code",
   "execution_count": 1,
   "metadata": {},
   "outputs": [],
   "source": [
    "import pandas as pd \n",
    "import numpy as np "
   ]
  },
  {
   "cell_type": "code",
   "execution_count": 31,
   "metadata": {},
   "outputs": [],
   "source": [
    "df_batting = pd.read_csv('./baseballdatabank-master/core/Batting.csv')\n",
    "df_pitching = pd.read_csv('./baseballdatabank-master/core/Pitching.csv')\n",
    "df_people = pd.read_csv('./baseballdatabank-master/core/People.csv')"
   ]
  },
  {
   "cell_type": "code",
   "execution_count": 3,
   "metadata": {},
   "outputs": [],
   "source": [
    "def open_rules(loc):\n",
    "    with open(loc) as f:\n",
    "        return eval(f.read())"
   ]
  },
  {
   "cell_type": "code",
   "execution_count": 6,
   "metadata": {},
   "outputs": [],
   "source": [
    "rules_batting = open_rules('./rules/batting1.txt')\n",
    "rules_pitching = open_rules('./rules/pitching1.txt')"
   ]
  },
  {
   "source": [
    "## Batters investigation"
   ],
   "cell_type": "markdown",
   "metadata": {}
  },
  {
   "cell_type": "code",
   "execution_count": 55,
   "metadata": {},
   "outputs": [],
   "source": [
    "# Join actual batters name\n",
    "df_people_reduced = df_people[['playerID', 'nameFirst', 'nameLast']].copy()\n",
    "df_batting_ppl = df_batting.merge(df_people_reduced, how='inner', on='playerID')"
   ]
  },
  {
   "cell_type": "code",
   "execution_count": 56,
   "metadata": {},
   "outputs": [],
   "source": [
    "identifiers_batting = ['playerID', 'nameFirst', 'nameLast', 'yearID']\n",
    "columns_batting = identifiers_batting + ['G', 'AB'] + list(rules_batting.keys())\n",
    "min_year = 2015"
   ]
  },
  {
   "cell_type": "code",
   "execution_count": 57,
   "metadata": {},
   "outputs": [],
   "source": [
    "# Create a column for singles\n",
    "df_batting_ppl['1B'] = df_batting_ppl['H'] - df_batting_ppl['2B'] - df_batting_ppl['3B'] - df_batting_ppl['HR']"
   ]
  },
  {
   "cell_type": "code",
   "execution_count": 79,
   "metadata": {},
   "outputs": [],
   "source": [
    "agg_batting = df_batting_ppl[df_batting_ppl['yearID'] >= min_year][columns_batting].groupby(identifiers_batting).sum().reset_index()"
   ]
  },
  {
   "cell_type": "code",
   "execution_count": 80,
   "metadata": {},
   "outputs": [
    {
     "output_type": "execute_result",
     "data": {
      "text/plain": [
       "       playerID nameFirst nameLast  yearID    G   AB  BB   HBP     SO   1B  \\\n",
       "8     abreujo02      Jose    Abreu    2015  154  613  39  15.0  140.0  111   \n",
       "9     abreujo02      Jose    Abreu    2016  159  624  47  15.0  125.0  125   \n",
       "10    abreujo02      Jose    Abreu    2017  156  621  35  15.0  119.0  107   \n",
       "11    abreujo02      Jose    Abreu    2018  128  499  37  11.0  109.0   73   \n",
       "12    abreujo02      Jose    Abreu    2019  159  634  36  13.0  152.0  108   \n",
       "...         ...       ...      ...     ...  ...  ...  ..   ...    ...  ...   \n",
       "8129  zuninmi01      Mike   Zunino    2016   55  164  21   6.0   65.0   15   \n",
       "8130  zuninmi01      Mike   Zunino    2017  124  387  39   8.0  160.0   47   \n",
       "8131  zuninmi01      Mike   Zunino    2018  113  373  24   6.0  150.0   37   \n",
       "8132  zuninmi01      Mike   Zunino    2019   90  266  20   3.0   98.0   24   \n",
       "8133  zuninmi01      Mike   Zunino    2020   28   75   6   3.0   37.0    3   \n",
       "\n",
       "      2B  3B  HR    RBI   R  \n",
       "8     34   3  30  101.0  88  \n",
       "9     32   1  25  100.0  67  \n",
       "10    43   6  33  102.0  95  \n",
       "11    36   1  22   78.0  68  \n",
       "12    38   1  33  123.0  85  \n",
       "...   ..  ..  ..    ...  ..  \n",
       "8129   7   0  12   31.0  16  \n",
       "8130  25   0  25   64.0  52  \n",
       "8131  18   0  20   44.0  37  \n",
       "8132  10   1   9   32.0  30  \n",
       "8133   4   0   4   10.0   8  \n",
       "\n",
       "[3024 rows x 15 columns]"
      ],
      "text/html": "<div>\n<style scoped>\n    .dataframe tbody tr th:only-of-type {\n        vertical-align: middle;\n    }\n\n    .dataframe tbody tr th {\n        vertical-align: top;\n    }\n\n    .dataframe thead th {\n        text-align: right;\n    }\n</style>\n<table border=\"1\" class=\"dataframe\">\n  <thead>\n    <tr style=\"text-align: right;\">\n      <th></th>\n      <th>playerID</th>\n      <th>nameFirst</th>\n      <th>nameLast</th>\n      <th>yearID</th>\n      <th>G</th>\n      <th>AB</th>\n      <th>BB</th>\n      <th>HBP</th>\n      <th>SO</th>\n      <th>1B</th>\n      <th>2B</th>\n      <th>3B</th>\n      <th>HR</th>\n      <th>RBI</th>\n      <th>R</th>\n    </tr>\n  </thead>\n  <tbody>\n    <tr>\n      <th>8</th>\n      <td>abreujo02</td>\n      <td>Jose</td>\n      <td>Abreu</td>\n      <td>2015</td>\n      <td>154</td>\n      <td>613</td>\n      <td>39</td>\n      <td>15.0</td>\n      <td>140.0</td>\n      <td>111</td>\n      <td>34</td>\n      <td>3</td>\n      <td>30</td>\n      <td>101.0</td>\n      <td>88</td>\n    </tr>\n    <tr>\n      <th>9</th>\n      <td>abreujo02</td>\n      <td>Jose</td>\n      <td>Abreu</td>\n      <td>2016</td>\n      <td>159</td>\n      <td>624</td>\n      <td>47</td>\n      <td>15.0</td>\n      <td>125.0</td>\n      <td>125</td>\n      <td>32</td>\n      <td>1</td>\n      <td>25</td>\n      <td>100.0</td>\n      <td>67</td>\n    </tr>\n    <tr>\n      <th>10</th>\n      <td>abreujo02</td>\n      <td>Jose</td>\n      <td>Abreu</td>\n      <td>2017</td>\n      <td>156</td>\n      <td>621</td>\n      <td>35</td>\n      <td>15.0</td>\n      <td>119.0</td>\n      <td>107</td>\n      <td>43</td>\n      <td>6</td>\n      <td>33</td>\n      <td>102.0</td>\n      <td>95</td>\n    </tr>\n    <tr>\n      <th>11</th>\n      <td>abreujo02</td>\n      <td>Jose</td>\n      <td>Abreu</td>\n      <td>2018</td>\n      <td>128</td>\n      <td>499</td>\n      <td>37</td>\n      <td>11.0</td>\n      <td>109.0</td>\n      <td>73</td>\n      <td>36</td>\n      <td>1</td>\n      <td>22</td>\n      <td>78.0</td>\n      <td>68</td>\n    </tr>\n    <tr>\n      <th>12</th>\n      <td>abreujo02</td>\n      <td>Jose</td>\n      <td>Abreu</td>\n      <td>2019</td>\n      <td>159</td>\n      <td>634</td>\n      <td>36</td>\n      <td>13.0</td>\n      <td>152.0</td>\n      <td>108</td>\n      <td>38</td>\n      <td>1</td>\n      <td>33</td>\n      <td>123.0</td>\n      <td>85</td>\n    </tr>\n    <tr>\n      <th>...</th>\n      <td>...</td>\n      <td>...</td>\n      <td>...</td>\n      <td>...</td>\n      <td>...</td>\n      <td>...</td>\n      <td>...</td>\n      <td>...</td>\n      <td>...</td>\n      <td>...</td>\n      <td>...</td>\n      <td>...</td>\n      <td>...</td>\n      <td>...</td>\n      <td>...</td>\n    </tr>\n    <tr>\n      <th>8129</th>\n      <td>zuninmi01</td>\n      <td>Mike</td>\n      <td>Zunino</td>\n      <td>2016</td>\n      <td>55</td>\n      <td>164</td>\n      <td>21</td>\n      <td>6.0</td>\n      <td>65.0</td>\n      <td>15</td>\n      <td>7</td>\n      <td>0</td>\n      <td>12</td>\n      <td>31.0</td>\n      <td>16</td>\n    </tr>\n    <tr>\n      <th>8130</th>\n      <td>zuninmi01</td>\n      <td>Mike</td>\n      <td>Zunino</td>\n      <td>2017</td>\n      <td>124</td>\n      <td>387</td>\n      <td>39</td>\n      <td>8.0</td>\n      <td>160.0</td>\n      <td>47</td>\n      <td>25</td>\n      <td>0</td>\n      <td>25</td>\n      <td>64.0</td>\n      <td>52</td>\n    </tr>\n    <tr>\n      <th>8131</th>\n      <td>zuninmi01</td>\n      <td>Mike</td>\n      <td>Zunino</td>\n      <td>2018</td>\n      <td>113</td>\n      <td>373</td>\n      <td>24</td>\n      <td>6.0</td>\n      <td>150.0</td>\n      <td>37</td>\n      <td>18</td>\n      <td>0</td>\n      <td>20</td>\n      <td>44.0</td>\n      <td>37</td>\n    </tr>\n    <tr>\n      <th>8132</th>\n      <td>zuninmi01</td>\n      <td>Mike</td>\n      <td>Zunino</td>\n      <td>2019</td>\n      <td>90</td>\n      <td>266</td>\n      <td>20</td>\n      <td>3.0</td>\n      <td>98.0</td>\n      <td>24</td>\n      <td>10</td>\n      <td>1</td>\n      <td>9</td>\n      <td>32.0</td>\n      <td>30</td>\n    </tr>\n    <tr>\n      <th>8133</th>\n      <td>zuninmi01</td>\n      <td>Mike</td>\n      <td>Zunino</td>\n      <td>2020</td>\n      <td>28</td>\n      <td>75</td>\n      <td>6</td>\n      <td>3.0</td>\n      <td>37.0</td>\n      <td>3</td>\n      <td>4</td>\n      <td>0</td>\n      <td>4</td>\n      <td>10.0</td>\n      <td>8</td>\n    </tr>\n  </tbody>\n</table>\n<p>3024 rows × 15 columns</p>\n</div>"
     },
     "metadata": {},
     "execution_count": 80
    }
   ],
   "source": [
    "agg_batting[agg_batting['AB'] > 50]"
   ]
  },
  {
   "cell_type": "code",
   "execution_count": 87,
   "metadata": {},
   "outputs": [],
   "source": [
    "agg_batting['points_total'] = 0\n",
    "\n",
    "for stat in rules_batting:\n",
    "    agg_batting[stat + '_points'] = agg_batting[stat] * rules_batting[stat]\n",
    "    agg_batting['points_total'] += agg_batting[stat + '_points']\n",
    "\n",
    "agg_batting['ppg'] = agg_batting['points_total'] / agg_batting['G']"
   ]
  },
  {
   "cell_type": "code",
   "execution_count": 88,
   "metadata": {},
   "outputs": [
    {
     "output_type": "execute_result",
     "data": {
      "text/plain": [
       "       playerID nameFirst nameLast  yearID   G   AB  BB  HBP    SO  1B  ...  \\\n",
       "0     aardsda01     David  Aardsma    2015  33    1   0  0.0   1.0   0  ...   \n",
       "1      abadfe01  Fernando     Abad    2015  62    0   0  0.0   0.0   0  ...   \n",
       "2      abadfe01  Fernando     Abad    2016  57    1   0  0.0   1.0   0  ...   \n",
       "3      abadfe01  Fernando     Abad    2017  48    0   0  0.0   0.0   0  ...   \n",
       "4      abadfe01  Fernando     Abad    2019  21    0   0  0.0   0.0   0  ...   \n",
       "...         ...       ...      ...     ...  ..  ...  ..  ...   ...  ..  ...   \n",
       "8132  zuninmi01      Mike   Zunino    2019  90  266  20  3.0  98.0  24  ...   \n",
       "8133  zuninmi01      Mike   Zunino    2020  28   75   6  3.0  37.0   3  ...   \n",
       "8134   zychto01      Tony     Zych    2015  13    0   0  0.0   0.0   0  ...   \n",
       "8135   zychto01      Tony     Zych    2016  12    0   0  0.0   0.0   0  ...   \n",
       "8136   zychto01      Tony     Zych    2017  45    0   0  0.0   0.0   0  ...   \n",
       "\n",
       "      BB_points  HBP_points  SO_points  1B_points  2B_points  3B_points  \\\n",
       "0           0.0         0.0       -0.5          0          0          0   \n",
       "1           0.0         0.0       -0.0          0          0          0   \n",
       "2           0.0         0.0       -0.5          0          0          0   \n",
       "3           0.0         0.0       -0.0          0          0          0   \n",
       "4           0.0         0.0       -0.0          0          0          0   \n",
       "...         ...         ...        ...        ...        ...        ...   \n",
       "8132       10.0         4.5      -49.0         24         20          3   \n",
       "8133        3.0         4.5      -18.5          3          8          0   \n",
       "8134        0.0         0.0       -0.0          0          0          0   \n",
       "8135        0.0         0.0       -0.0          0          0          0   \n",
       "8136        0.0         0.0       -0.0          0          0          0   \n",
       "\n",
       "      HR_points  RBI_points  R_points       ppg  \n",
       "0             0         0.0         0 -0.015152  \n",
       "1             0         0.0         0  0.000000  \n",
       "2             0         0.0         0 -0.008772  \n",
       "3             0         0.0         0  0.000000  \n",
       "4             0         0.0         0  0.000000  \n",
       "...         ...         ...       ...       ...  \n",
       "8132         90       160.0       120  4.250000  \n",
       "8133         40        50.0        32  4.357143  \n",
       "8134          0         0.0         0  0.000000  \n",
       "8135          0         0.0         0  0.000000  \n",
       "8136          0         0.0         0  0.000000  \n",
       "\n",
       "[8137 rows x 26 columns]"
      ],
      "text/html": "<div>\n<style scoped>\n    .dataframe tbody tr th:only-of-type {\n        vertical-align: middle;\n    }\n\n    .dataframe tbody tr th {\n        vertical-align: top;\n    }\n\n    .dataframe thead th {\n        text-align: right;\n    }\n</style>\n<table border=\"1\" class=\"dataframe\">\n  <thead>\n    <tr style=\"text-align: right;\">\n      <th></th>\n      <th>playerID</th>\n      <th>nameFirst</th>\n      <th>nameLast</th>\n      <th>yearID</th>\n      <th>G</th>\n      <th>AB</th>\n      <th>BB</th>\n      <th>HBP</th>\n      <th>SO</th>\n      <th>1B</th>\n      <th>...</th>\n      <th>BB_points</th>\n      <th>HBP_points</th>\n      <th>SO_points</th>\n      <th>1B_points</th>\n      <th>2B_points</th>\n      <th>3B_points</th>\n      <th>HR_points</th>\n      <th>RBI_points</th>\n      <th>R_points</th>\n      <th>ppg</th>\n    </tr>\n  </thead>\n  <tbody>\n    <tr>\n      <th>0</th>\n      <td>aardsda01</td>\n      <td>David</td>\n      <td>Aardsma</td>\n      <td>2015</td>\n      <td>33</td>\n      <td>1</td>\n      <td>0</td>\n      <td>0.0</td>\n      <td>1.0</td>\n      <td>0</td>\n      <td>...</td>\n      <td>0.0</td>\n      <td>0.0</td>\n      <td>-0.5</td>\n      <td>0</td>\n      <td>0</td>\n      <td>0</td>\n      <td>0</td>\n      <td>0.0</td>\n      <td>0</td>\n      <td>-0.015152</td>\n    </tr>\n    <tr>\n      <th>1</th>\n      <td>abadfe01</td>\n      <td>Fernando</td>\n      <td>Abad</td>\n      <td>2015</td>\n      <td>62</td>\n      <td>0</td>\n      <td>0</td>\n      <td>0.0</td>\n      <td>0.0</td>\n      <td>0</td>\n      <td>...</td>\n      <td>0.0</td>\n      <td>0.0</td>\n      <td>-0.0</td>\n      <td>0</td>\n      <td>0</td>\n      <td>0</td>\n      <td>0</td>\n      <td>0.0</td>\n      <td>0</td>\n      <td>0.000000</td>\n    </tr>\n    <tr>\n      <th>2</th>\n      <td>abadfe01</td>\n      <td>Fernando</td>\n      <td>Abad</td>\n      <td>2016</td>\n      <td>57</td>\n      <td>1</td>\n      <td>0</td>\n      <td>0.0</td>\n      <td>1.0</td>\n      <td>0</td>\n      <td>...</td>\n      <td>0.0</td>\n      <td>0.0</td>\n      <td>-0.5</td>\n      <td>0</td>\n      <td>0</td>\n      <td>0</td>\n      <td>0</td>\n      <td>0.0</td>\n      <td>0</td>\n      <td>-0.008772</td>\n    </tr>\n    <tr>\n      <th>3</th>\n      <td>abadfe01</td>\n      <td>Fernando</td>\n      <td>Abad</td>\n      <td>2017</td>\n      <td>48</td>\n      <td>0</td>\n      <td>0</td>\n      <td>0.0</td>\n      <td>0.0</td>\n      <td>0</td>\n      <td>...</td>\n      <td>0.0</td>\n      <td>0.0</td>\n      <td>-0.0</td>\n      <td>0</td>\n      <td>0</td>\n      <td>0</td>\n      <td>0</td>\n      <td>0.0</td>\n      <td>0</td>\n      <td>0.000000</td>\n    </tr>\n    <tr>\n      <th>4</th>\n      <td>abadfe01</td>\n      <td>Fernando</td>\n      <td>Abad</td>\n      <td>2019</td>\n      <td>21</td>\n      <td>0</td>\n      <td>0</td>\n      <td>0.0</td>\n      <td>0.0</td>\n      <td>0</td>\n      <td>...</td>\n      <td>0.0</td>\n      <td>0.0</td>\n      <td>-0.0</td>\n      <td>0</td>\n      <td>0</td>\n      <td>0</td>\n      <td>0</td>\n      <td>0.0</td>\n      <td>0</td>\n      <td>0.000000</td>\n    </tr>\n    <tr>\n      <th>...</th>\n      <td>...</td>\n      <td>...</td>\n      <td>...</td>\n      <td>...</td>\n      <td>...</td>\n      <td>...</td>\n      <td>...</td>\n      <td>...</td>\n      <td>...</td>\n      <td>...</td>\n      <td>...</td>\n      <td>...</td>\n      <td>...</td>\n      <td>...</td>\n      <td>...</td>\n      <td>...</td>\n      <td>...</td>\n      <td>...</td>\n      <td>...</td>\n      <td>...</td>\n      <td>...</td>\n    </tr>\n    <tr>\n      <th>8132</th>\n      <td>zuninmi01</td>\n      <td>Mike</td>\n      <td>Zunino</td>\n      <td>2019</td>\n      <td>90</td>\n      <td>266</td>\n      <td>20</td>\n      <td>3.0</td>\n      <td>98.0</td>\n      <td>24</td>\n      <td>...</td>\n      <td>10.0</td>\n      <td>4.5</td>\n      <td>-49.0</td>\n      <td>24</td>\n      <td>20</td>\n      <td>3</td>\n      <td>90</td>\n      <td>160.0</td>\n      <td>120</td>\n      <td>4.250000</td>\n    </tr>\n    <tr>\n      <th>8133</th>\n      <td>zuninmi01</td>\n      <td>Mike</td>\n      <td>Zunino</td>\n      <td>2020</td>\n      <td>28</td>\n      <td>75</td>\n      <td>6</td>\n      <td>3.0</td>\n      <td>37.0</td>\n      <td>3</td>\n      <td>...</td>\n      <td>3.0</td>\n      <td>4.5</td>\n      <td>-18.5</td>\n      <td>3</td>\n      <td>8</td>\n      <td>0</td>\n      <td>40</td>\n      <td>50.0</td>\n      <td>32</td>\n      <td>4.357143</td>\n    </tr>\n    <tr>\n      <th>8134</th>\n      <td>zychto01</td>\n      <td>Tony</td>\n      <td>Zych</td>\n      <td>2015</td>\n      <td>13</td>\n      <td>0</td>\n      <td>0</td>\n      <td>0.0</td>\n      <td>0.0</td>\n      <td>0</td>\n      <td>...</td>\n      <td>0.0</td>\n      <td>0.0</td>\n      <td>-0.0</td>\n      <td>0</td>\n      <td>0</td>\n      <td>0</td>\n      <td>0</td>\n      <td>0.0</td>\n      <td>0</td>\n      <td>0.000000</td>\n    </tr>\n    <tr>\n      <th>8135</th>\n      <td>zychto01</td>\n      <td>Tony</td>\n      <td>Zych</td>\n      <td>2016</td>\n      <td>12</td>\n      <td>0</td>\n      <td>0</td>\n      <td>0.0</td>\n      <td>0.0</td>\n      <td>0</td>\n      <td>...</td>\n      <td>0.0</td>\n      <td>0.0</td>\n      <td>-0.0</td>\n      <td>0</td>\n      <td>0</td>\n      <td>0</td>\n      <td>0</td>\n      <td>0.0</td>\n      <td>0</td>\n      <td>0.000000</td>\n    </tr>\n    <tr>\n      <th>8136</th>\n      <td>zychto01</td>\n      <td>Tony</td>\n      <td>Zych</td>\n      <td>2017</td>\n      <td>45</td>\n      <td>0</td>\n      <td>0</td>\n      <td>0.0</td>\n      <td>0.0</td>\n      <td>0</td>\n      <td>...</td>\n      <td>0.0</td>\n      <td>0.0</td>\n      <td>-0.0</td>\n      <td>0</td>\n      <td>0</td>\n      <td>0</td>\n      <td>0</td>\n      <td>0.0</td>\n      <td>0</td>\n      <td>0.000000</td>\n    </tr>\n  </tbody>\n</table>\n<p>8137 rows × 26 columns</p>\n</div>"
     },
     "metadata": {},
     "execution_count": 88
    }
   ],
   "source": [
    "agg_batting"
   ]
  },
  {
   "cell_type": "code",
   "execution_count": 90,
   "metadata": {},
   "outputs": [
    {
     "output_type": "execute_result",
     "data": {
      "text/plain": [
       "       playerID  nameFirst     nameLast  yearID    G   AB   BB   HBP     SO  \\\n",
       "1623   cruzne02     Nelson         Cruz    2019  120  454   56   7.0  131.0   \n",
       "8060  yelicch01  Christian       Yelich    2019  130  489   80   8.0  118.0   \n",
       "6032  rendoan01    Anthony       Rendon    2019  146  545   80  12.0   86.0   \n",
       "6989  springe01     George     Springer    2019  122  479   67   6.0  113.0   \n",
       "210   alvaryo01     Yordan      Alvarez    2019   87  313   52   2.0   94.0   \n",
       "594   bellico01       Cody    Bellinger    2019  156  558   95   3.0  108.0   \n",
       "2119  encared01      Edwin  Encarnacion    2019  109  418   58   7.0  103.0   \n",
       "880   bregmal01       Alex      Bregman    2019  156  554  119   9.0   83.0   \n",
       "2614  garvemi01      Mitch       Garver    2019   93  311   41   5.0   87.0   \n",
       "1858  deverra01     Rafael       Devers    2019  156  647   48   4.0  119.0   \n",
       "164   alonspe01       Pete       Alonso    2019  161  597   72  21.0  183.0   \n",
       "599    belljo02       Josh         Bell    2019  143  527   74   5.0  118.0   \n",
       "6530   sanomi01     Miguel         Sano    2019  105  380   55   3.0  159.0   \n",
       "286   aquinar01  Aristides       Aquino    2019   56  205   16   2.0   60.0   \n",
       "315   arenano01      Nolan      Arenado    2019  155  588   62   4.0   93.0   \n",
       "2419  freemfr01    Freddie      Freeman    2019  158  597   87   6.0  127.0   \n",
       "2503  gallojo01       Joey        Gallo    2019   70  241   52   2.0  114.0   \n",
       "752   bogaexa01     Xander     Bogaerts    2019  155  614   76   2.0  122.0   \n",
       "700   blackch02    Charlie     Blackmon    2019  140  580   40   9.0  104.0   \n",
       "6963   sotoju01       Juan         Soto    2019  150  542  108   3.0  132.0   \n",
       "19    acunaro01     Ronald        Acuna    2019  156  626   76   9.0  188.0   \n",
       "3884  keplema01        Max       Kepler    2019  134  524   60   8.0   99.0   \n",
       "6331  rosared01      Eddie      Rosario    2019  137  562   22   0.0   86.0   \n",
       "4515  martijd02      J. D.     Martinez    2019  146  575   72   4.0  138.0   \n",
       "1539  correca01     Carlos       Correa    2019   75  280   35   2.0   75.0   \n",
       "4134  lemahdj01         DJ     LeMahieu    2019  145  602   46   2.0   90.0   \n",
       "7239  tatisfe02   Fernando        Tatis    2019   84  334   30   5.0  110.0   \n",
       "6506  sanchga02       Gary      Sanchez    2019  106  396   40   9.0  125.0   \n",
       "6936  solerjo01      Jorge        Soler    2019  162  589   73  10.0  178.0   \n",
       "662   bettsmo01     Mookie        Betts    2019  150  597   97   3.0  101.0   \n",
       "4484  marteke01      Ketel        Marte    2019  144  569   53   4.0   86.0   \n",
       "5050  muncyma01        Max        Muncy    2019  141  487   90   8.0  149.0   \n",
       "5323  olsonma02       Matt        Olson    2019  127  483   51  12.0  138.0   \n",
       "4162  lewisky01       Kyle        Lewis    2019   18   71    3   0.0   29.0   \n",
       "185   altuvjo01       Jose       Altuve    2019  124  500   41   3.0   82.0   \n",
       "6878  smithwi05       Will        Smith    2019   54  170   18   5.0   52.0   \n",
       "7073  storytr01     Trevor        Story    2019  145  588   58   7.0  174.0   \n",
       "2876  gourryu01       Yuli      Gurriel    2019  144  564   37   5.0   65.0   \n",
       "2150  escobed01    Eduardo      Escobar    2019  158  636   50   3.0  130.0   \n",
       "3432  hoernni01       Nico      Hoerner    2019   20   78    3   0.0   11.0   \n",
       "6683  semiema01     Marcus       Semien    2019  162  657   87   2.0  102.0   \n",
       "4406  mancitr01       Trey      Mancini    2019  154  602   63   9.0  143.0   \n",
       "7384  torregl01    Gleyber       Torres    2019  144  546   48   3.0  129.0   \n",
       "3160  harpebr03      Bryce       Harper    2019  157  573   99   6.0  178.0   \n",
       "5536  pencehu01     Hunter        Pence    2019   83  286   26   2.0   69.0   \n",
       "7146  suareeu01    Eugenio       Suarez    2019  159  575   70  11.0  189.0   \n",
       "4491  martest01   Starling        Marte    2019  132  539   25  16.0   94.0   \n",
       "12    abreujo02       Jose        Abreu    2019  159  634   36  13.0  152.0   \n",
       "4725  meadoau01     Austin      Meadows    2019  138  530   54   7.0  131.0   \n",
       "\n",
       "       1B  ...  BB_points  HBP_points  SO_points  1B_points  2B_points  \\\n",
       "1623   74  ...       28.0        10.5      -65.5         74         52   \n",
       "8060   85  ...       40.0        12.0      -59.0         85         58   \n",
       "6032   93  ...       40.0        18.0      -43.0         93         88   \n",
       "6989   78  ...       33.5         9.0      -56.5         78         40   \n",
       "210    45  ...       26.0         3.0      -47.0         45         52   \n",
       "594    86  ...       47.5         4.5      -54.0         86         68   \n",
       "2119   50  ...       29.0        10.5      -51.5         50         36   \n",
       "880    84  ...       59.5        13.5      -41.5         84         74   \n",
       "2614   37  ...       20.5         7.5      -43.5         37         32   \n",
       "1858  111  ...       24.0         6.0      -59.5        111        108   \n",
       "164    70  ...       36.0        31.5      -91.5         70         60   \n",
       "599    69  ...       37.0         7.5      -59.0         69         74   \n",
       "6530   39  ...       27.5         4.5      -79.5         39         38   \n",
       "286    26  ...        8.0         3.0      -30.0         26         16   \n",
       "315   111  ...       31.0         6.0      -46.5        111         62   \n",
       "2419  102  ...       43.5         9.0      -63.5        102         68   \n",
       "2503   23  ...       26.0         3.0      -57.0         23         30   \n",
       "752   105  ...       38.0         3.0      -61.0        105        104   \n",
       "700   101  ...       20.0        13.5      -52.0        101         84   \n",
       "6963   82  ...       54.0         4.5      -66.0         82         64   \n",
       "19    110  ...       38.0        13.5      -94.0        110         44   \n",
       "3884   64  ...       30.0        12.0      -49.5         64         64   \n",
       "6331   94  ...       11.0         0.0      -43.0         94         56   \n",
       "4515  104  ...       36.0         6.0      -69.0        104         66   \n",
       "1539   40  ...       17.5         3.0      -37.5         40         32   \n",
       "4134  136  ...       23.0         3.0      -45.0        136         66   \n",
       "7239   65  ...       15.0         7.5      -55.0         65         26   \n",
       "6506   45  ...       20.0        13.5      -62.5         45         24   \n",
       "6936   74  ...       36.5        15.0      -89.0         74         66   \n",
       "662   102  ...       48.5         4.5      -50.5        102         80   \n",
       "4484  110  ...       26.5         6.0      -43.0        110         72   \n",
       "5050   64  ...       45.0        12.0      -74.5         64         44   \n",
       "5323   67  ...       25.5        18.0      -69.0         67         52   \n",
       "4162    8  ...        1.5         0.0      -14.5          8         10   \n",
       "185    88  ...       20.5         4.5      -41.0         88         54   \n",
       "6878   19  ...        9.0         7.5      -26.0         19         18   \n",
       "7073   95  ...       29.0        10.5      -87.0         95         76   \n",
       "2876   95  ...       18.5         7.5      -32.5         95         80   \n",
       "2150   97  ...       25.0         4.5      -65.0         97         58   \n",
       "3432   17  ...        1.5         0.0       -5.5         17          2   \n",
       "6683  104  ...       43.5         3.0      -51.0        104         86   \n",
       "4406  100  ...       31.5        13.5      -71.5        100         76   \n",
       "7384   88  ...       24.0         4.5      -64.5         88         52   \n",
       "3160   77  ...       49.5         9.0      -89.0         77         72   \n",
       "5536   49  ...       13.0         3.0      -34.5         49         34   \n",
       "7146   83  ...       35.0        16.5      -94.5         83         44   \n",
       "4491   99  ...       12.5        24.0      -47.0         99         62   \n",
       "12    108  ...       18.0        19.5      -76.0        108         76   \n",
       "4725   85  ...       27.0        10.5      -65.5         85         58   \n",
       "\n",
       "      3B_points  HR_points  RBI_points  R_points        ppg  \n",
       "1623          0        410       540.0       324  11.441667  \n",
       "8060          9        440       485.0       400  11.307692  \n",
       "6032          9        340       630.0       468  11.253425  \n",
       "6989          9        390       480.0       384  11.204918  \n",
       "210           0        270       390.0       232  11.160920  \n",
       "594           9        470       575.0       484  10.833333  \n",
       "2119          0        340       430.0       324  10.715596  \n",
       "880           6        410       560.0       488  10.599359  \n",
       "2614          3        310       335.0       280  10.553763  \n",
       "1858         12        320       575.0       516  10.336538  \n",
       "164           6        530       600.0       412  10.273292  \n",
       "599           9        370       580.0       376  10.234266  \n",
       "6530          6        340       395.0       304  10.233333  \n",
       "286           0        190       235.0       124  10.214286  \n",
       "315           6        410       590.0       408  10.177419  \n",
       "2419          6        380       605.0       452  10.139241  \n",
       "2503          3        220       245.0       216  10.128571  \n",
       "752           0        330       585.0       440   9.961290  \n",
       "700          21        320       430.0       448   9.896429  \n",
       "6963         15        340       550.0       440   9.890000  \n",
       "19            6        410       505.0       508   9.875000  \n",
       "3884          0        360       450.0       392   9.869403  \n",
       "6331          3        320       545.0       364   9.854015  \n",
       "4515          6        360       525.0       392   9.767123  \n",
       "1539          3        210       295.0       168   9.746667  \n",
       "4134          6        260       510.0       436   9.620690  \n",
       "7239         18        220       265.0       244   9.589286  \n",
       "6506          3        340       385.0       248   9.584906  \n",
       "6936          3        480       585.0       380   9.570988  \n",
       "662          15        290       400.0       540   9.530000  \n",
       "4484         27        320       460.0       388   9.489583  \n",
       "5050          3        350       490.0       404   9.485816  \n",
       "5323          0        360       455.0       292   9.452756  \n",
       "4162          0         60        65.0        40   9.444444  \n",
       "185           9        310       370.0       356   9.443548  \n",
       "6878          0        150       210.0       120   9.398148  \n",
       "7073         15        350       425.0       444   9.362069  \n",
       "2876          6        310       520.0       340   9.336806  \n",
       "2150         30        350       590.0       376   9.275316  \n",
       "3432          3         30        85.0        52   9.250000  \n",
       "6683         21        330       460.0       492   9.188272  \n",
       "4406          6        350       485.0       424   9.185065  \n",
       "7384          0        380       450.0       384   9.152778  \n",
       "3160          3        350       570.0       392   9.130573  \n",
       "5536          3        180       295.0       212   9.090361  \n",
       "7146          6        490       515.0       348   9.075472  \n",
       "4491         18        230       410.0       388   9.064394  \n",
       "12            3        330       615.0       340   9.015723  \n",
       "4725         21        330       445.0       332   9.007246  \n",
       "\n",
       "[49 rows x 26 columns]"
      ],
      "text/html": "<div>\n<style scoped>\n    .dataframe tbody tr th:only-of-type {\n        vertical-align: middle;\n    }\n\n    .dataframe tbody tr th {\n        vertical-align: top;\n    }\n\n    .dataframe thead th {\n        text-align: right;\n    }\n</style>\n<table border=\"1\" class=\"dataframe\">\n  <thead>\n    <tr style=\"text-align: right;\">\n      <th></th>\n      <th>playerID</th>\n      <th>nameFirst</th>\n      <th>nameLast</th>\n      <th>yearID</th>\n      <th>G</th>\n      <th>AB</th>\n      <th>BB</th>\n      <th>HBP</th>\n      <th>SO</th>\n      <th>1B</th>\n      <th>...</th>\n      <th>BB_points</th>\n      <th>HBP_points</th>\n      <th>SO_points</th>\n      <th>1B_points</th>\n      <th>2B_points</th>\n      <th>3B_points</th>\n      <th>HR_points</th>\n      <th>RBI_points</th>\n      <th>R_points</th>\n      <th>ppg</th>\n    </tr>\n  </thead>\n  <tbody>\n    <tr>\n      <th>1623</th>\n      <td>cruzne02</td>\n      <td>Nelson</td>\n      <td>Cruz</td>\n      <td>2019</td>\n      <td>120</td>\n      <td>454</td>\n      <td>56</td>\n      <td>7.0</td>\n      <td>131.0</td>\n      <td>74</td>\n      <td>...</td>\n      <td>28.0</td>\n      <td>10.5</td>\n      <td>-65.5</td>\n      <td>74</td>\n      <td>52</td>\n      <td>0</td>\n      <td>410</td>\n      <td>540.0</td>\n      <td>324</td>\n      <td>11.441667</td>\n    </tr>\n    <tr>\n      <th>8060</th>\n      <td>yelicch01</td>\n      <td>Christian</td>\n      <td>Yelich</td>\n      <td>2019</td>\n      <td>130</td>\n      <td>489</td>\n      <td>80</td>\n      <td>8.0</td>\n      <td>118.0</td>\n      <td>85</td>\n      <td>...</td>\n      <td>40.0</td>\n      <td>12.0</td>\n      <td>-59.0</td>\n      <td>85</td>\n      <td>58</td>\n      <td>9</td>\n      <td>440</td>\n      <td>485.0</td>\n      <td>400</td>\n      <td>11.307692</td>\n    </tr>\n    <tr>\n      <th>6032</th>\n      <td>rendoan01</td>\n      <td>Anthony</td>\n      <td>Rendon</td>\n      <td>2019</td>\n      <td>146</td>\n      <td>545</td>\n      <td>80</td>\n      <td>12.0</td>\n      <td>86.0</td>\n      <td>93</td>\n      <td>...</td>\n      <td>40.0</td>\n      <td>18.0</td>\n      <td>-43.0</td>\n      <td>93</td>\n      <td>88</td>\n      <td>9</td>\n      <td>340</td>\n      <td>630.0</td>\n      <td>468</td>\n      <td>11.253425</td>\n    </tr>\n    <tr>\n      <th>6989</th>\n      <td>springe01</td>\n      <td>George</td>\n      <td>Springer</td>\n      <td>2019</td>\n      <td>122</td>\n      <td>479</td>\n      <td>67</td>\n      <td>6.0</td>\n      <td>113.0</td>\n      <td>78</td>\n      <td>...</td>\n      <td>33.5</td>\n      <td>9.0</td>\n      <td>-56.5</td>\n      <td>78</td>\n      <td>40</td>\n      <td>9</td>\n      <td>390</td>\n      <td>480.0</td>\n      <td>384</td>\n      <td>11.204918</td>\n    </tr>\n    <tr>\n      <th>210</th>\n      <td>alvaryo01</td>\n      <td>Yordan</td>\n      <td>Alvarez</td>\n      <td>2019</td>\n      <td>87</td>\n      <td>313</td>\n      <td>52</td>\n      <td>2.0</td>\n      <td>94.0</td>\n      <td>45</td>\n      <td>...</td>\n      <td>26.0</td>\n      <td>3.0</td>\n      <td>-47.0</td>\n      <td>45</td>\n      <td>52</td>\n      <td>0</td>\n      <td>270</td>\n      <td>390.0</td>\n      <td>232</td>\n      <td>11.160920</td>\n    </tr>\n    <tr>\n      <th>594</th>\n      <td>bellico01</td>\n      <td>Cody</td>\n      <td>Bellinger</td>\n      <td>2019</td>\n      <td>156</td>\n      <td>558</td>\n      <td>95</td>\n      <td>3.0</td>\n      <td>108.0</td>\n      <td>86</td>\n      <td>...</td>\n      <td>47.5</td>\n      <td>4.5</td>\n      <td>-54.0</td>\n      <td>86</td>\n      <td>68</td>\n      <td>9</td>\n      <td>470</td>\n      <td>575.0</td>\n      <td>484</td>\n      <td>10.833333</td>\n    </tr>\n    <tr>\n      <th>2119</th>\n      <td>encared01</td>\n      <td>Edwin</td>\n      <td>Encarnacion</td>\n      <td>2019</td>\n      <td>109</td>\n      <td>418</td>\n      <td>58</td>\n      <td>7.0</td>\n      <td>103.0</td>\n      <td>50</td>\n      <td>...</td>\n      <td>29.0</td>\n      <td>10.5</td>\n      <td>-51.5</td>\n      <td>50</td>\n      <td>36</td>\n      <td>0</td>\n      <td>340</td>\n      <td>430.0</td>\n      <td>324</td>\n      <td>10.715596</td>\n    </tr>\n    <tr>\n      <th>880</th>\n      <td>bregmal01</td>\n      <td>Alex</td>\n      <td>Bregman</td>\n      <td>2019</td>\n      <td>156</td>\n      <td>554</td>\n      <td>119</td>\n      <td>9.0</td>\n      <td>83.0</td>\n      <td>84</td>\n      <td>...</td>\n      <td>59.5</td>\n      <td>13.5</td>\n      <td>-41.5</td>\n      <td>84</td>\n      <td>74</td>\n      <td>6</td>\n      <td>410</td>\n      <td>560.0</td>\n      <td>488</td>\n      <td>10.599359</td>\n    </tr>\n    <tr>\n      <th>2614</th>\n      <td>garvemi01</td>\n      <td>Mitch</td>\n      <td>Garver</td>\n      <td>2019</td>\n      <td>93</td>\n      <td>311</td>\n      <td>41</td>\n      <td>5.0</td>\n      <td>87.0</td>\n      <td>37</td>\n      <td>...</td>\n      <td>20.5</td>\n      <td>7.5</td>\n      <td>-43.5</td>\n      <td>37</td>\n      <td>32</td>\n      <td>3</td>\n      <td>310</td>\n      <td>335.0</td>\n      <td>280</td>\n      <td>10.553763</td>\n    </tr>\n    <tr>\n      <th>1858</th>\n      <td>deverra01</td>\n      <td>Rafael</td>\n      <td>Devers</td>\n      <td>2019</td>\n      <td>156</td>\n      <td>647</td>\n      <td>48</td>\n      <td>4.0</td>\n      <td>119.0</td>\n      <td>111</td>\n      <td>...</td>\n      <td>24.0</td>\n      <td>6.0</td>\n      <td>-59.5</td>\n      <td>111</td>\n      <td>108</td>\n      <td>12</td>\n      <td>320</td>\n      <td>575.0</td>\n      <td>516</td>\n      <td>10.336538</td>\n    </tr>\n    <tr>\n      <th>164</th>\n      <td>alonspe01</td>\n      <td>Pete</td>\n      <td>Alonso</td>\n      <td>2019</td>\n      <td>161</td>\n      <td>597</td>\n      <td>72</td>\n      <td>21.0</td>\n      <td>183.0</td>\n      <td>70</td>\n      <td>...</td>\n      <td>36.0</td>\n      <td>31.5</td>\n      <td>-91.5</td>\n      <td>70</td>\n      <td>60</td>\n      <td>6</td>\n      <td>530</td>\n      <td>600.0</td>\n      <td>412</td>\n      <td>10.273292</td>\n    </tr>\n    <tr>\n      <th>599</th>\n      <td>belljo02</td>\n      <td>Josh</td>\n      <td>Bell</td>\n      <td>2019</td>\n      <td>143</td>\n      <td>527</td>\n      <td>74</td>\n      <td>5.0</td>\n      <td>118.0</td>\n      <td>69</td>\n      <td>...</td>\n      <td>37.0</td>\n      <td>7.5</td>\n      <td>-59.0</td>\n      <td>69</td>\n      <td>74</td>\n      <td>9</td>\n      <td>370</td>\n      <td>580.0</td>\n      <td>376</td>\n      <td>10.234266</td>\n    </tr>\n    <tr>\n      <th>6530</th>\n      <td>sanomi01</td>\n      <td>Miguel</td>\n      <td>Sano</td>\n      <td>2019</td>\n      <td>105</td>\n      <td>380</td>\n      <td>55</td>\n      <td>3.0</td>\n      <td>159.0</td>\n      <td>39</td>\n      <td>...</td>\n      <td>27.5</td>\n      <td>4.5</td>\n      <td>-79.5</td>\n      <td>39</td>\n      <td>38</td>\n      <td>6</td>\n      <td>340</td>\n      <td>395.0</td>\n      <td>304</td>\n      <td>10.233333</td>\n    </tr>\n    <tr>\n      <th>286</th>\n      <td>aquinar01</td>\n      <td>Aristides</td>\n      <td>Aquino</td>\n      <td>2019</td>\n      <td>56</td>\n      <td>205</td>\n      <td>16</td>\n      <td>2.0</td>\n      <td>60.0</td>\n      <td>26</td>\n      <td>...</td>\n      <td>8.0</td>\n      <td>3.0</td>\n      <td>-30.0</td>\n      <td>26</td>\n      <td>16</td>\n      <td>0</td>\n      <td>190</td>\n      <td>235.0</td>\n      <td>124</td>\n      <td>10.214286</td>\n    </tr>\n    <tr>\n      <th>315</th>\n      <td>arenano01</td>\n      <td>Nolan</td>\n      <td>Arenado</td>\n      <td>2019</td>\n      <td>155</td>\n      <td>588</td>\n      <td>62</td>\n      <td>4.0</td>\n      <td>93.0</td>\n      <td>111</td>\n      <td>...</td>\n      <td>31.0</td>\n      <td>6.0</td>\n      <td>-46.5</td>\n      <td>111</td>\n      <td>62</td>\n      <td>6</td>\n      <td>410</td>\n      <td>590.0</td>\n      <td>408</td>\n      <td>10.177419</td>\n    </tr>\n    <tr>\n      <th>2419</th>\n      <td>freemfr01</td>\n      <td>Freddie</td>\n      <td>Freeman</td>\n      <td>2019</td>\n      <td>158</td>\n      <td>597</td>\n      <td>87</td>\n      <td>6.0</td>\n      <td>127.0</td>\n      <td>102</td>\n      <td>...</td>\n      <td>43.5</td>\n      <td>9.0</td>\n      <td>-63.5</td>\n      <td>102</td>\n      <td>68</td>\n      <td>6</td>\n      <td>380</td>\n      <td>605.0</td>\n      <td>452</td>\n      <td>10.139241</td>\n    </tr>\n    <tr>\n      <th>2503</th>\n      <td>gallojo01</td>\n      <td>Joey</td>\n      <td>Gallo</td>\n      <td>2019</td>\n      <td>70</td>\n      <td>241</td>\n      <td>52</td>\n      <td>2.0</td>\n      <td>114.0</td>\n      <td>23</td>\n      <td>...</td>\n      <td>26.0</td>\n      <td>3.0</td>\n      <td>-57.0</td>\n      <td>23</td>\n      <td>30</td>\n      <td>3</td>\n      <td>220</td>\n      <td>245.0</td>\n      <td>216</td>\n      <td>10.128571</td>\n    </tr>\n    <tr>\n      <th>752</th>\n      <td>bogaexa01</td>\n      <td>Xander</td>\n      <td>Bogaerts</td>\n      <td>2019</td>\n      <td>155</td>\n      <td>614</td>\n      <td>76</td>\n      <td>2.0</td>\n      <td>122.0</td>\n      <td>105</td>\n      <td>...</td>\n      <td>38.0</td>\n      <td>3.0</td>\n      <td>-61.0</td>\n      <td>105</td>\n      <td>104</td>\n      <td>0</td>\n      <td>330</td>\n      <td>585.0</td>\n      <td>440</td>\n      <td>9.961290</td>\n    </tr>\n    <tr>\n      <th>700</th>\n      <td>blackch02</td>\n      <td>Charlie</td>\n      <td>Blackmon</td>\n      <td>2019</td>\n      <td>140</td>\n      <td>580</td>\n      <td>40</td>\n      <td>9.0</td>\n      <td>104.0</td>\n      <td>101</td>\n      <td>...</td>\n      <td>20.0</td>\n      <td>13.5</td>\n      <td>-52.0</td>\n      <td>101</td>\n      <td>84</td>\n      <td>21</td>\n      <td>320</td>\n      <td>430.0</td>\n      <td>448</td>\n      <td>9.896429</td>\n    </tr>\n    <tr>\n      <th>6963</th>\n      <td>sotoju01</td>\n      <td>Juan</td>\n      <td>Soto</td>\n      <td>2019</td>\n      <td>150</td>\n      <td>542</td>\n      <td>108</td>\n      <td>3.0</td>\n      <td>132.0</td>\n      <td>82</td>\n      <td>...</td>\n      <td>54.0</td>\n      <td>4.5</td>\n      <td>-66.0</td>\n      <td>82</td>\n      <td>64</td>\n      <td>15</td>\n      <td>340</td>\n      <td>550.0</td>\n      <td>440</td>\n      <td>9.890000</td>\n    </tr>\n    <tr>\n      <th>19</th>\n      <td>acunaro01</td>\n      <td>Ronald</td>\n      <td>Acuna</td>\n      <td>2019</td>\n      <td>156</td>\n      <td>626</td>\n      <td>76</td>\n      <td>9.0</td>\n      <td>188.0</td>\n      <td>110</td>\n      <td>...</td>\n      <td>38.0</td>\n      <td>13.5</td>\n      <td>-94.0</td>\n      <td>110</td>\n      <td>44</td>\n      <td>6</td>\n      <td>410</td>\n      <td>505.0</td>\n      <td>508</td>\n      <td>9.875000</td>\n    </tr>\n    <tr>\n      <th>3884</th>\n      <td>keplema01</td>\n      <td>Max</td>\n      <td>Kepler</td>\n      <td>2019</td>\n      <td>134</td>\n      <td>524</td>\n      <td>60</td>\n      <td>8.0</td>\n      <td>99.0</td>\n      <td>64</td>\n      <td>...</td>\n      <td>30.0</td>\n      <td>12.0</td>\n      <td>-49.5</td>\n      <td>64</td>\n      <td>64</td>\n      <td>0</td>\n      <td>360</td>\n      <td>450.0</td>\n      <td>392</td>\n      <td>9.869403</td>\n    </tr>\n    <tr>\n      <th>6331</th>\n      <td>rosared01</td>\n      <td>Eddie</td>\n      <td>Rosario</td>\n      <td>2019</td>\n      <td>137</td>\n      <td>562</td>\n      <td>22</td>\n      <td>0.0</td>\n      <td>86.0</td>\n      <td>94</td>\n      <td>...</td>\n      <td>11.0</td>\n      <td>0.0</td>\n      <td>-43.0</td>\n      <td>94</td>\n      <td>56</td>\n      <td>3</td>\n      <td>320</td>\n      <td>545.0</td>\n      <td>364</td>\n      <td>9.854015</td>\n    </tr>\n    <tr>\n      <th>4515</th>\n      <td>martijd02</td>\n      <td>J. D.</td>\n      <td>Martinez</td>\n      <td>2019</td>\n      <td>146</td>\n      <td>575</td>\n      <td>72</td>\n      <td>4.0</td>\n      <td>138.0</td>\n      <td>104</td>\n      <td>...</td>\n      <td>36.0</td>\n      <td>6.0</td>\n      <td>-69.0</td>\n      <td>104</td>\n      <td>66</td>\n      <td>6</td>\n      <td>360</td>\n      <td>525.0</td>\n      <td>392</td>\n      <td>9.767123</td>\n    </tr>\n    <tr>\n      <th>1539</th>\n      <td>correca01</td>\n      <td>Carlos</td>\n      <td>Correa</td>\n      <td>2019</td>\n      <td>75</td>\n      <td>280</td>\n      <td>35</td>\n      <td>2.0</td>\n      <td>75.0</td>\n      <td>40</td>\n      <td>...</td>\n      <td>17.5</td>\n      <td>3.0</td>\n      <td>-37.5</td>\n      <td>40</td>\n      <td>32</td>\n      <td>3</td>\n      <td>210</td>\n      <td>295.0</td>\n      <td>168</td>\n      <td>9.746667</td>\n    </tr>\n    <tr>\n      <th>4134</th>\n      <td>lemahdj01</td>\n      <td>DJ</td>\n      <td>LeMahieu</td>\n      <td>2019</td>\n      <td>145</td>\n      <td>602</td>\n      <td>46</td>\n      <td>2.0</td>\n      <td>90.0</td>\n      <td>136</td>\n      <td>...</td>\n      <td>23.0</td>\n      <td>3.0</td>\n      <td>-45.0</td>\n      <td>136</td>\n      <td>66</td>\n      <td>6</td>\n      <td>260</td>\n      <td>510.0</td>\n      <td>436</td>\n      <td>9.620690</td>\n    </tr>\n    <tr>\n      <th>7239</th>\n      <td>tatisfe02</td>\n      <td>Fernando</td>\n      <td>Tatis</td>\n      <td>2019</td>\n      <td>84</td>\n      <td>334</td>\n      <td>30</td>\n      <td>5.0</td>\n      <td>110.0</td>\n      <td>65</td>\n      <td>...</td>\n      <td>15.0</td>\n      <td>7.5</td>\n      <td>-55.0</td>\n      <td>65</td>\n      <td>26</td>\n      <td>18</td>\n      <td>220</td>\n      <td>265.0</td>\n      <td>244</td>\n      <td>9.589286</td>\n    </tr>\n    <tr>\n      <th>6506</th>\n      <td>sanchga02</td>\n      <td>Gary</td>\n      <td>Sanchez</td>\n      <td>2019</td>\n      <td>106</td>\n      <td>396</td>\n      <td>40</td>\n      <td>9.0</td>\n      <td>125.0</td>\n      <td>45</td>\n      <td>...</td>\n      <td>20.0</td>\n      <td>13.5</td>\n      <td>-62.5</td>\n      <td>45</td>\n      <td>24</td>\n      <td>3</td>\n      <td>340</td>\n      <td>385.0</td>\n      <td>248</td>\n      <td>9.584906</td>\n    </tr>\n    <tr>\n      <th>6936</th>\n      <td>solerjo01</td>\n      <td>Jorge</td>\n      <td>Soler</td>\n      <td>2019</td>\n      <td>162</td>\n      <td>589</td>\n      <td>73</td>\n      <td>10.0</td>\n      <td>178.0</td>\n      <td>74</td>\n      <td>...</td>\n      <td>36.5</td>\n      <td>15.0</td>\n      <td>-89.0</td>\n      <td>74</td>\n      <td>66</td>\n      <td>3</td>\n      <td>480</td>\n      <td>585.0</td>\n      <td>380</td>\n      <td>9.570988</td>\n    </tr>\n    <tr>\n      <th>662</th>\n      <td>bettsmo01</td>\n      <td>Mookie</td>\n      <td>Betts</td>\n      <td>2019</td>\n      <td>150</td>\n      <td>597</td>\n      <td>97</td>\n      <td>3.0</td>\n      <td>101.0</td>\n      <td>102</td>\n      <td>...</td>\n      <td>48.5</td>\n      <td>4.5</td>\n      <td>-50.5</td>\n      <td>102</td>\n      <td>80</td>\n      <td>15</td>\n      <td>290</td>\n      <td>400.0</td>\n      <td>540</td>\n      <td>9.530000</td>\n    </tr>\n    <tr>\n      <th>4484</th>\n      <td>marteke01</td>\n      <td>Ketel</td>\n      <td>Marte</td>\n      <td>2019</td>\n      <td>144</td>\n      <td>569</td>\n      <td>53</td>\n      <td>4.0</td>\n      <td>86.0</td>\n      <td>110</td>\n      <td>...</td>\n      <td>26.5</td>\n      <td>6.0</td>\n      <td>-43.0</td>\n      <td>110</td>\n      <td>72</td>\n      <td>27</td>\n      <td>320</td>\n      <td>460.0</td>\n      <td>388</td>\n      <td>9.489583</td>\n    </tr>\n    <tr>\n      <th>5050</th>\n      <td>muncyma01</td>\n      <td>Max</td>\n      <td>Muncy</td>\n      <td>2019</td>\n      <td>141</td>\n      <td>487</td>\n      <td>90</td>\n      <td>8.0</td>\n      <td>149.0</td>\n      <td>64</td>\n      <td>...</td>\n      <td>45.0</td>\n      <td>12.0</td>\n      <td>-74.5</td>\n      <td>64</td>\n      <td>44</td>\n      <td>3</td>\n      <td>350</td>\n      <td>490.0</td>\n      <td>404</td>\n      <td>9.485816</td>\n    </tr>\n    <tr>\n      <th>5323</th>\n      <td>olsonma02</td>\n      <td>Matt</td>\n      <td>Olson</td>\n      <td>2019</td>\n      <td>127</td>\n      <td>483</td>\n      <td>51</td>\n      <td>12.0</td>\n      <td>138.0</td>\n      <td>67</td>\n      <td>...</td>\n      <td>25.5</td>\n      <td>18.0</td>\n      <td>-69.0</td>\n      <td>67</td>\n      <td>52</td>\n      <td>0</td>\n      <td>360</td>\n      <td>455.0</td>\n      <td>292</td>\n      <td>9.452756</td>\n    </tr>\n    <tr>\n      <th>4162</th>\n      <td>lewisky01</td>\n      <td>Kyle</td>\n      <td>Lewis</td>\n      <td>2019</td>\n      <td>18</td>\n      <td>71</td>\n      <td>3</td>\n      <td>0.0</td>\n      <td>29.0</td>\n      <td>8</td>\n      <td>...</td>\n      <td>1.5</td>\n      <td>0.0</td>\n      <td>-14.5</td>\n      <td>8</td>\n      <td>10</td>\n      <td>0</td>\n      <td>60</td>\n      <td>65.0</td>\n      <td>40</td>\n      <td>9.444444</td>\n    </tr>\n    <tr>\n      <th>185</th>\n      <td>altuvjo01</td>\n      <td>Jose</td>\n      <td>Altuve</td>\n      <td>2019</td>\n      <td>124</td>\n      <td>500</td>\n      <td>41</td>\n      <td>3.0</td>\n      <td>82.0</td>\n      <td>88</td>\n      <td>...</td>\n      <td>20.5</td>\n      <td>4.5</td>\n      <td>-41.0</td>\n      <td>88</td>\n      <td>54</td>\n      <td>9</td>\n      <td>310</td>\n      <td>370.0</td>\n      <td>356</td>\n      <td>9.443548</td>\n    </tr>\n    <tr>\n      <th>6878</th>\n      <td>smithwi05</td>\n      <td>Will</td>\n      <td>Smith</td>\n      <td>2019</td>\n      <td>54</td>\n      <td>170</td>\n      <td>18</td>\n      <td>5.0</td>\n      <td>52.0</td>\n      <td>19</td>\n      <td>...</td>\n      <td>9.0</td>\n      <td>7.5</td>\n      <td>-26.0</td>\n      <td>19</td>\n      <td>18</td>\n      <td>0</td>\n      <td>150</td>\n      <td>210.0</td>\n      <td>120</td>\n      <td>9.398148</td>\n    </tr>\n    <tr>\n      <th>7073</th>\n      <td>storytr01</td>\n      <td>Trevor</td>\n      <td>Story</td>\n      <td>2019</td>\n      <td>145</td>\n      <td>588</td>\n      <td>58</td>\n      <td>7.0</td>\n      <td>174.0</td>\n      <td>95</td>\n      <td>...</td>\n      <td>29.0</td>\n      <td>10.5</td>\n      <td>-87.0</td>\n      <td>95</td>\n      <td>76</td>\n      <td>15</td>\n      <td>350</td>\n      <td>425.0</td>\n      <td>444</td>\n      <td>9.362069</td>\n    </tr>\n    <tr>\n      <th>2876</th>\n      <td>gourryu01</td>\n      <td>Yuli</td>\n      <td>Gurriel</td>\n      <td>2019</td>\n      <td>144</td>\n      <td>564</td>\n      <td>37</td>\n      <td>5.0</td>\n      <td>65.0</td>\n      <td>95</td>\n      <td>...</td>\n      <td>18.5</td>\n      <td>7.5</td>\n      <td>-32.5</td>\n      <td>95</td>\n      <td>80</td>\n      <td>6</td>\n      <td>310</td>\n      <td>520.0</td>\n      <td>340</td>\n      <td>9.336806</td>\n    </tr>\n    <tr>\n      <th>2150</th>\n      <td>escobed01</td>\n      <td>Eduardo</td>\n      <td>Escobar</td>\n      <td>2019</td>\n      <td>158</td>\n      <td>636</td>\n      <td>50</td>\n      <td>3.0</td>\n      <td>130.0</td>\n      <td>97</td>\n      <td>...</td>\n      <td>25.0</td>\n      <td>4.5</td>\n      <td>-65.0</td>\n      <td>97</td>\n      <td>58</td>\n      <td>30</td>\n      <td>350</td>\n      <td>590.0</td>\n      <td>376</td>\n      <td>9.275316</td>\n    </tr>\n    <tr>\n      <th>3432</th>\n      <td>hoernni01</td>\n      <td>Nico</td>\n      <td>Hoerner</td>\n      <td>2019</td>\n      <td>20</td>\n      <td>78</td>\n      <td>3</td>\n      <td>0.0</td>\n      <td>11.0</td>\n      <td>17</td>\n      <td>...</td>\n      <td>1.5</td>\n      <td>0.0</td>\n      <td>-5.5</td>\n      <td>17</td>\n      <td>2</td>\n      <td>3</td>\n      <td>30</td>\n      <td>85.0</td>\n      <td>52</td>\n      <td>9.250000</td>\n    </tr>\n    <tr>\n      <th>6683</th>\n      <td>semiema01</td>\n      <td>Marcus</td>\n      <td>Semien</td>\n      <td>2019</td>\n      <td>162</td>\n      <td>657</td>\n      <td>87</td>\n      <td>2.0</td>\n      <td>102.0</td>\n      <td>104</td>\n      <td>...</td>\n      <td>43.5</td>\n      <td>3.0</td>\n      <td>-51.0</td>\n      <td>104</td>\n      <td>86</td>\n      <td>21</td>\n      <td>330</td>\n      <td>460.0</td>\n      <td>492</td>\n      <td>9.188272</td>\n    </tr>\n    <tr>\n      <th>4406</th>\n      <td>mancitr01</td>\n      <td>Trey</td>\n      <td>Mancini</td>\n      <td>2019</td>\n      <td>154</td>\n      <td>602</td>\n      <td>63</td>\n      <td>9.0</td>\n      <td>143.0</td>\n      <td>100</td>\n      <td>...</td>\n      <td>31.5</td>\n      <td>13.5</td>\n      <td>-71.5</td>\n      <td>100</td>\n      <td>76</td>\n      <td>6</td>\n      <td>350</td>\n      <td>485.0</td>\n      <td>424</td>\n      <td>9.185065</td>\n    </tr>\n    <tr>\n      <th>7384</th>\n      <td>torregl01</td>\n      <td>Gleyber</td>\n      <td>Torres</td>\n      <td>2019</td>\n      <td>144</td>\n      <td>546</td>\n      <td>48</td>\n      <td>3.0</td>\n      <td>129.0</td>\n      <td>88</td>\n      <td>...</td>\n      <td>24.0</td>\n      <td>4.5</td>\n      <td>-64.5</td>\n      <td>88</td>\n      <td>52</td>\n      <td>0</td>\n      <td>380</td>\n      <td>450.0</td>\n      <td>384</td>\n      <td>9.152778</td>\n    </tr>\n    <tr>\n      <th>3160</th>\n      <td>harpebr03</td>\n      <td>Bryce</td>\n      <td>Harper</td>\n      <td>2019</td>\n      <td>157</td>\n      <td>573</td>\n      <td>99</td>\n      <td>6.0</td>\n      <td>178.0</td>\n      <td>77</td>\n      <td>...</td>\n      <td>49.5</td>\n      <td>9.0</td>\n      <td>-89.0</td>\n      <td>77</td>\n      <td>72</td>\n      <td>3</td>\n      <td>350</td>\n      <td>570.0</td>\n      <td>392</td>\n      <td>9.130573</td>\n    </tr>\n    <tr>\n      <th>5536</th>\n      <td>pencehu01</td>\n      <td>Hunter</td>\n      <td>Pence</td>\n      <td>2019</td>\n      <td>83</td>\n      <td>286</td>\n      <td>26</td>\n      <td>2.0</td>\n      <td>69.0</td>\n      <td>49</td>\n      <td>...</td>\n      <td>13.0</td>\n      <td>3.0</td>\n      <td>-34.5</td>\n      <td>49</td>\n      <td>34</td>\n      <td>3</td>\n      <td>180</td>\n      <td>295.0</td>\n      <td>212</td>\n      <td>9.090361</td>\n    </tr>\n    <tr>\n      <th>7146</th>\n      <td>suareeu01</td>\n      <td>Eugenio</td>\n      <td>Suarez</td>\n      <td>2019</td>\n      <td>159</td>\n      <td>575</td>\n      <td>70</td>\n      <td>11.0</td>\n      <td>189.0</td>\n      <td>83</td>\n      <td>...</td>\n      <td>35.0</td>\n      <td>16.5</td>\n      <td>-94.5</td>\n      <td>83</td>\n      <td>44</td>\n      <td>6</td>\n      <td>490</td>\n      <td>515.0</td>\n      <td>348</td>\n      <td>9.075472</td>\n    </tr>\n    <tr>\n      <th>4491</th>\n      <td>martest01</td>\n      <td>Starling</td>\n      <td>Marte</td>\n      <td>2019</td>\n      <td>132</td>\n      <td>539</td>\n      <td>25</td>\n      <td>16.0</td>\n      <td>94.0</td>\n      <td>99</td>\n      <td>...</td>\n      <td>12.5</td>\n      <td>24.0</td>\n      <td>-47.0</td>\n      <td>99</td>\n      <td>62</td>\n      <td>18</td>\n      <td>230</td>\n      <td>410.0</td>\n      <td>388</td>\n      <td>9.064394</td>\n    </tr>\n    <tr>\n      <th>12</th>\n      <td>abreujo02</td>\n      <td>Jose</td>\n      <td>Abreu</td>\n      <td>2019</td>\n      <td>159</td>\n      <td>634</td>\n      <td>36</td>\n      <td>13.0</td>\n      <td>152.0</td>\n      <td>108</td>\n      <td>...</td>\n      <td>18.0</td>\n      <td>19.5</td>\n      <td>-76.0</td>\n      <td>108</td>\n      <td>76</td>\n      <td>3</td>\n      <td>330</td>\n      <td>615.0</td>\n      <td>340</td>\n      <td>9.015723</td>\n    </tr>\n    <tr>\n      <th>4725</th>\n      <td>meadoau01</td>\n      <td>Austin</td>\n      <td>Meadows</td>\n      <td>2019</td>\n      <td>138</td>\n      <td>530</td>\n      <td>54</td>\n      <td>7.0</td>\n      <td>131.0</td>\n      <td>85</td>\n      <td>...</td>\n      <td>27.0</td>\n      <td>10.5</td>\n      <td>-65.5</td>\n      <td>85</td>\n      <td>58</td>\n      <td>21</td>\n      <td>330</td>\n      <td>445.0</td>\n      <td>332</td>\n      <td>9.007246</td>\n    </tr>\n  </tbody>\n</table>\n<p>49 rows × 26 columns</p>\n</div>"
     },
     "metadata": {},
     "execution_count": 90
    }
   ],
   "source": [
    "agg_batting[(agg_batting['AB'] > 50) & (agg_batting['yearID'] == 2019)].sort_values(by='ppg', ascending=False).iloc[1:50]"
   ]
  },
  {
   "cell_type": "code",
   "execution_count": 32,
   "metadata": {},
   "outputs": [
    {
     "output_type": "execute_result",
     "data": {
      "text/plain": [
       "    playerID  birthYear  birthMonth  birthDay birthCountry birthState  \\\n",
       "0  aardsda01     1981.0        12.0      27.0          USA         CO   \n",
       "1  aaronha01     1934.0         2.0       5.0          USA         AL   \n",
       "2  aaronto01     1939.0         8.0       5.0          USA         AL   \n",
       "3   aasedo01     1954.0         9.0       8.0          USA         CA   \n",
       "4   abadan01     1972.0         8.0      25.0          USA         FL   \n",
       "\n",
       "    birthCity  deathYear  deathMonth  deathDay  ... nameLast       nameGiven  \\\n",
       "0      Denver        NaN         NaN       NaN  ...  Aardsma     David Allan   \n",
       "1      Mobile     2021.0         1.0      22.0  ...    Aaron     Henry Louis   \n",
       "2      Mobile     1984.0         8.0      16.0  ...    Aaron      Tommie Lee   \n",
       "3      Orange        NaN         NaN       NaN  ...     Aase  Donald William   \n",
       "4  Palm Beach        NaN         NaN       NaN  ...     Abad   Fausto Andres   \n",
       "\n",
       "  weight height bats throws       debut   finalGame   retroID    bbrefID  \n",
       "0  215.0   75.0    R      R  2004-04-06  2015-08-23  aardd001  aardsda01  \n",
       "1  180.0   72.0    R      R  1954-04-13  1976-10-03  aaroh101  aaronha01  \n",
       "2  190.0   75.0    R      R  1962-04-10  1971-09-26  aarot101  aaronto01  \n",
       "3  190.0   75.0    R      R  1977-07-26  1990-10-03  aased001   aasedo01  \n",
       "4  184.0   73.0    L      L  2001-09-10  2006-04-13  abada001   abadan01  \n",
       "\n",
       "[5 rows x 24 columns]"
      ],
      "text/html": "<div>\n<style scoped>\n    .dataframe tbody tr th:only-of-type {\n        vertical-align: middle;\n    }\n\n    .dataframe tbody tr th {\n        vertical-align: top;\n    }\n\n    .dataframe thead th {\n        text-align: right;\n    }\n</style>\n<table border=\"1\" class=\"dataframe\">\n  <thead>\n    <tr style=\"text-align: right;\">\n      <th></th>\n      <th>playerID</th>\n      <th>birthYear</th>\n      <th>birthMonth</th>\n      <th>birthDay</th>\n      <th>birthCountry</th>\n      <th>birthState</th>\n      <th>birthCity</th>\n      <th>deathYear</th>\n      <th>deathMonth</th>\n      <th>deathDay</th>\n      <th>...</th>\n      <th>nameLast</th>\n      <th>nameGiven</th>\n      <th>weight</th>\n      <th>height</th>\n      <th>bats</th>\n      <th>throws</th>\n      <th>debut</th>\n      <th>finalGame</th>\n      <th>retroID</th>\n      <th>bbrefID</th>\n    </tr>\n  </thead>\n  <tbody>\n    <tr>\n      <th>0</th>\n      <td>aardsda01</td>\n      <td>1981.0</td>\n      <td>12.0</td>\n      <td>27.0</td>\n      <td>USA</td>\n      <td>CO</td>\n      <td>Denver</td>\n      <td>NaN</td>\n      <td>NaN</td>\n      <td>NaN</td>\n      <td>...</td>\n      <td>Aardsma</td>\n      <td>David Allan</td>\n      <td>215.0</td>\n      <td>75.0</td>\n      <td>R</td>\n      <td>R</td>\n      <td>2004-04-06</td>\n      <td>2015-08-23</td>\n      <td>aardd001</td>\n      <td>aardsda01</td>\n    </tr>\n    <tr>\n      <th>1</th>\n      <td>aaronha01</td>\n      <td>1934.0</td>\n      <td>2.0</td>\n      <td>5.0</td>\n      <td>USA</td>\n      <td>AL</td>\n      <td>Mobile</td>\n      <td>2021.0</td>\n      <td>1.0</td>\n      <td>22.0</td>\n      <td>...</td>\n      <td>Aaron</td>\n      <td>Henry Louis</td>\n      <td>180.0</td>\n      <td>72.0</td>\n      <td>R</td>\n      <td>R</td>\n      <td>1954-04-13</td>\n      <td>1976-10-03</td>\n      <td>aaroh101</td>\n      <td>aaronha01</td>\n    </tr>\n    <tr>\n      <th>2</th>\n      <td>aaronto01</td>\n      <td>1939.0</td>\n      <td>8.0</td>\n      <td>5.0</td>\n      <td>USA</td>\n      <td>AL</td>\n      <td>Mobile</td>\n      <td>1984.0</td>\n      <td>8.0</td>\n      <td>16.0</td>\n      <td>...</td>\n      <td>Aaron</td>\n      <td>Tommie Lee</td>\n      <td>190.0</td>\n      <td>75.0</td>\n      <td>R</td>\n      <td>R</td>\n      <td>1962-04-10</td>\n      <td>1971-09-26</td>\n      <td>aarot101</td>\n      <td>aaronto01</td>\n    </tr>\n    <tr>\n      <th>3</th>\n      <td>aasedo01</td>\n      <td>1954.0</td>\n      <td>9.0</td>\n      <td>8.0</td>\n      <td>USA</td>\n      <td>CA</td>\n      <td>Orange</td>\n      <td>NaN</td>\n      <td>NaN</td>\n      <td>NaN</td>\n      <td>...</td>\n      <td>Aase</td>\n      <td>Donald William</td>\n      <td>190.0</td>\n      <td>75.0</td>\n      <td>R</td>\n      <td>R</td>\n      <td>1977-07-26</td>\n      <td>1990-10-03</td>\n      <td>aased001</td>\n      <td>aasedo01</td>\n    </tr>\n    <tr>\n      <th>4</th>\n      <td>abadan01</td>\n      <td>1972.0</td>\n      <td>8.0</td>\n      <td>25.0</td>\n      <td>USA</td>\n      <td>FL</td>\n      <td>Palm Beach</td>\n      <td>NaN</td>\n      <td>NaN</td>\n      <td>NaN</td>\n      <td>...</td>\n      <td>Abad</td>\n      <td>Fausto Andres</td>\n      <td>184.0</td>\n      <td>73.0</td>\n      <td>L</td>\n      <td>L</td>\n      <td>2001-09-10</td>\n      <td>2006-04-13</td>\n      <td>abada001</td>\n      <td>abadan01</td>\n    </tr>\n  </tbody>\n</table>\n<p>5 rows × 24 columns</p>\n</div>"
     },
     "metadata": {},
     "execution_count": 32
    }
   ],
   "source": [
    "df_people.head()"
   ]
  },
  {
   "cell_type": "code",
   "execution_count": null,
   "metadata": {},
   "outputs": [],
   "source": []
  }
 ]
}